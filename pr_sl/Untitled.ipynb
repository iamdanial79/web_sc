{
 "cells": [
  {
   "cell_type": "code",
   "execution_count": 2,
   "id": "e1999e16-9b4c-487f-a3cb-4234dcae5edf",
   "metadata": {},
   "outputs": [],
   "source": [
    "from selenium import webdriver"
   ]
  },
  {
   "cell_type": "code",
   "execution_count": 5,
   "id": "b84cd2a7-1f70-4c17-8ba7-22fb28d59775",
   "metadata": {},
   "outputs": [],
   "source": [
    "def getpage(url):\n",
    "    driver = webdriver.chrome(\"chromedriver.exe\")\n",
    "    driver.get(url)\n",
    "    source = driver.page_source\n",
    "    driver.quit()\n",
    "    return source"
   ]
  },
  {
   "cell_type": "code",
   "execution_count": 4,
   "id": "72153bbc-e545-48b7-a882-b40be6187c00",
   "metadata": {},
   "outputs": [],
   "source": [
    "from bs4 import BeautifulSoup"
   ]
  },
  {
   "cell_type": "code",
   "execution_count": null,
   "id": "911795f4-9cc5-49b5-b96d-4dfd780b07e9",
   "metadata": {},
   "outputs": [],
   "source": [
    "source = getpage(input(\"enter page url\"))"
   ]
  },
  {
   "cell_type": "code",
   "execution_count": null,
   "id": "0447baea-9126-4128-9043-472e9d5d2478",
   "metadata": {},
   "outputs": [],
   "source": [
    "s = BeautifulSoup(source,'html.parser')"
   ]
  },
  {
   "cell_type": "code",
   "execution_count": null,
   "id": "09a0889f-0652-426b-ae3d-2b9edcdfc582",
   "metadata": {},
   "outputs": [],
   "source": []
  }
 ],
 "metadata": {
  "kernelspec": {
   "display_name": "Python 3 (ipykernel)",
   "language": "python",
   "name": "python3"
  },
  "language_info": {
   "codemirror_mode": {
    "name": "ipython",
    "version": 3
   },
   "file_extension": ".py",
   "mimetype": "text/x-python",
   "name": "python",
   "nbconvert_exporter": "python",
   "pygments_lexer": "ipython3",
   "version": "3.9.2"
  }
 },
 "nbformat": 4,
 "nbformat_minor": 5
}
